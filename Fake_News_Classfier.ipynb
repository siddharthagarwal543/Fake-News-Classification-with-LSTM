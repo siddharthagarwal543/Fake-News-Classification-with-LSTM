{
  "nbformat": 4,
  "nbformat_minor": 0,
  "metadata": {
    "colab": {
      "provenance": [],
      "gpuType": "T4"
    },
    "kernelspec": {
      "name": "python3",
      "display_name": "Python 3"
    },
    "language_info": {
      "name": "python"
    },
    "accelerator": "GPU"
  },
  "cells": [
    {
      "cell_type": "markdown",
      "source": [
        "Dataset: https://www.kaggle.com/competitions/fake-news/data"
      ],
      "metadata": {
        "id": "q0rS6U9IRpSd"
      }
    },
    {
      "cell_type": "code",
      "source": [
        "import pandas as pd\n",
        "import nltk\n",
        "import re\n",
        "from nltk.corpus import stopwords\n",
        "from nltk.stem.porter import PorterStemmer\n",
        "from sklearn.model_selection import train_test_split\n",
        "from sklearn.metrics import confusion_matrix, accuracy_score\n",
        "from tensorflow.keras.layers import Embedding, LSTM, Dense\n",
        "from tensorflow.keras.preprocessing.sequence import pad_sequences\n",
        "from tensorflow.keras.preprocessing.text import one_hot\n",
        "from tensorflow.keras.models import Sequential\n",
        "\n",
        "nltk.download('stopwords')\n",
        "\n",
        "df = pd.read_csv('/content/train.csv')\n",
        "df = df.dropna()  # Drop NaN values\n",
        "\n",
        "x = df.drop('label', axis=1)\n",
        "y = df['label']\n",
        "\n",
        "voc_size = 5000  # Vocabulary Size\n",
        "msgs = x.copy()\n",
        "msgs.reset_index(inplace=True)\n",
        "\n",
        "ps = PorterStemmer()\n",
        "corpus = []\n",
        "\n",
        "for i in range(0, len(msgs)):\n",
        "    review = re.sub('[^a-zA-Z]', ' ', msgs['title'][i])  # Keeping only alphabets\n",
        "    review = review.lower()  # Converting alphabets to lowercase\n",
        "    review = review.split()  # Splitting them and storing string as a list of words\n",
        "    review = [ps.stem(word) for word in review if not word in stopwords.words('english')]  # If the word is not a stopword, we will keep it after stemming it\n",
        "    review = ' '.join(review)\n",
        "    corpus.append(review)\n",
        "\n",
        "onehot_repr = [one_hot(words, voc_size) for words in corpus]\n",
        "\n",
        "sent_length = 20\n",
        "embedded_docs = pad_sequences(onehot_repr, padding='pre', maxlen=sent_length)"
      ],
      "metadata": {
        "colab": {
          "base_uri": "https://localhost:8080/"
        },
        "id": "9Okde50PpSik",
        "outputId": "c4ec5d44-44c3-4e66-b002-bb88ca4a2863"
      },
      "execution_count": 67,
      "outputs": [
        {
          "output_type": "stream",
          "name": "stderr",
          "text": [
            "[nltk_data] Downloading package stopwords to /root/nltk_data...\n",
            "[nltk_data]   Package stopwords is already up-to-date!\n"
          ]
        }
      ]
    },
    {
      "cell_type": "code",
      "source": [
        "embedding_vector_features = 40\n",
        "\n",
        "model = Sequential()\n",
        "model.add(Embedding(voc_size, embedding_vector_features, input_length=sent_length))\n",
        "model.add(LSTM(100))\n",
        "model.add(Dense(1, activation='sigmoid'))\n",
        "\n",
        "model.compile(loss='binary_crossentropy', optimizer='adam', metrics=['accuracy'])\n",
        "print(model.summary())"
      ],
      "metadata": {
        "colab": {
          "base_uri": "https://localhost:8080/"
        },
        "id": "pUZdpZ5HpX-O",
        "outputId": "c9a92a38-3aff-440c-b6cf-108503ce3097"
      },
      "execution_count": 68,
      "outputs": [
        {
          "output_type": "stream",
          "name": "stdout",
          "text": [
            "Model: \"sequential_11\"\n",
            "_________________________________________________________________\n",
            " Layer (type)                Output Shape              Param #   \n",
            "=================================================================\n",
            " embedding_9 (Embedding)     (None, 20, 40)            200000    \n",
            "                                                                 \n",
            " lstm_9 (LSTM)               (None, 100)               56400     \n",
            "                                                                 \n",
            " dense_9 (Dense)             (None, 1)                 101       \n",
            "                                                                 \n",
            "=================================================================\n",
            "Total params: 256,501\n",
            "Trainable params: 256,501\n",
            "Non-trainable params: 0\n",
            "_________________________________________________________________\n",
            "None\n"
          ]
        }
      ]
    },
    {
      "cell_type": "code",
      "source": [
        "x_final = embedded_docs\n",
        "y_final = y.values.astype(int)  # Convert y to array of integers\n",
        "\n",
        "x_train, x_test, y_train, y_test = train_test_split(x_final, y_final, test_size=0.33, random_state=42)\n",
        "\n",
        "model.fit(x_train, y_train, validation_data=(x_test, y_test), epochs=10, batch_size=64)"
      ],
      "metadata": {
        "colab": {
          "base_uri": "https://localhost:8080/"
        },
        "id": "Rft_Dmk4ppqV",
        "outputId": "08349c4f-0af7-4bcb-d32d-b436c81a3fd1"
      },
      "execution_count": 69,
      "outputs": [
        {
          "output_type": "stream",
          "name": "stdout",
          "text": [
            "Epoch 1/10\n",
            "192/192 [==============================] - 15s 67ms/step - loss: 0.3313 - accuracy: 0.8419 - val_loss: 0.1953 - val_accuracy: 0.9147\n",
            "Epoch 2/10\n",
            "192/192 [==============================] - 5s 25ms/step - loss: 0.1439 - accuracy: 0.9456 - val_loss: 0.2034 - val_accuracy: 0.9137\n",
            "Epoch 3/10\n",
            "192/192 [==============================] - 6s 32ms/step - loss: 0.1039 - accuracy: 0.9624 - val_loss: 0.2080 - val_accuracy: 0.9180\n",
            "Epoch 4/10\n",
            "192/192 [==============================] - 4s 19ms/step - loss: 0.0790 - accuracy: 0.9718 - val_loss: 0.2491 - val_accuracy: 0.9181\n",
            "Epoch 5/10\n",
            "192/192 [==============================] - 5s 27ms/step - loss: 0.0594 - accuracy: 0.9807 - val_loss: 0.2596 - val_accuracy: 0.9117\n",
            "Epoch 6/10\n",
            "192/192 [==============================] - 2s 12ms/step - loss: 0.0446 - accuracy: 0.9855 - val_loss: 0.3163 - val_accuracy: 0.9135\n",
            "Epoch 7/10\n",
            "192/192 [==============================] - 2s 9ms/step - loss: 0.0346 - accuracy: 0.9887 - val_loss: 0.3572 - val_accuracy: 0.9112\n",
            "Epoch 8/10\n",
            "192/192 [==============================] - 3s 13ms/step - loss: 0.0218 - accuracy: 0.9932 - val_loss: 0.3969 - val_accuracy: 0.9112\n",
            "Epoch 9/10\n",
            "192/192 [==============================] - 2s 10ms/step - loss: 0.0170 - accuracy: 0.9946 - val_loss: 0.4376 - val_accuracy: 0.9115\n",
            "Epoch 10/10\n",
            "192/192 [==============================] - 2s 9ms/step - loss: 0.0146 - accuracy: 0.9962 - val_loss: 0.4502 - val_accuracy: 0.9109\n"
          ]
        },
        {
          "output_type": "execute_result",
          "data": {
            "text/plain": [
              "<keras.callbacks.History at 0x7fd18de144c0>"
            ]
          },
          "metadata": {},
          "execution_count": 69
        }
      ]
    },
    {
      "cell_type": "code",
      "source": [
        "\n",
        "y_pred_prob = model.predict(x_test)\n",
        "y_pred = [1 if prob > 0.5 else 0 for prob in y_pred_prob]\n",
        "\n",
        "print(confusion_matrix(y_test, y_pred))\n",
        "print(accuracy_score(y_test, y_pred))"
      ],
      "metadata": {
        "colab": {
          "base_uri": "https://localhost:8080/"
        },
        "id": "uK1pVmUepbom",
        "outputId": "f0ae5f13-2877-4f2d-adf9-6cb5f84125b9"
      },
      "execution_count": 70,
      "outputs": [
        {
          "output_type": "stream",
          "name": "stdout",
          "text": [
            "189/189 [==============================] - 1s 3ms/step\n",
            "[[3105  314]\n",
            " [ 224 2392]]\n",
            "0.9108533554266777\n"
          ]
        }
      ]
    },
    {
      "cell_type": "markdown",
      "source": [
        "Trying adding dropout layer to add regularization and prevent overfitting"
      ],
      "metadata": {
        "id": "UGqgJnDZqN7R"
      }
    },
    {
      "cell_type": "code",
      "source": [
        "from tensorflow.keras.layers import Dropout\n",
        "from tensorflow.keras import regularizers\n",
        "from tensorflow.keras.callbacks import EarlyStopping\n",
        "\n",
        "embedding_vector_features = 40\n",
        "\n",
        "model = Sequential()\n",
        "\n",
        "# Embedding layer\n",
        "model.add(Embedding(voc_size, embedding_vector_features, input_length=sent_length))\n",
        "model.add(Dropout(0.3))  # Dropout regularization to prevent overfitting\n",
        "\n",
        "# LSTM layer\n",
        "model.add(LSTM(100, recurrent_dropout=0.3, kernel_regularizer=regularizers.l2(0.01)))\n",
        "model.add(Dropout(0.3))  # Dropout regularization\n",
        "\n",
        "# Dense layer\n",
        "model.add(Dense(1, activation='sigmoid', kernel_regularizer=regularizers.l2(0.01)))\n",
        "\n",
        "model.compile(loss='binary_crossentropy', optimizer='adam', metrics=['accuracy'])\n",
        "\n",
        "early_stop = EarlyStopping(monitor='val_loss', patience=3, restore_best_weights=True)\n",
        "\n",
        "# Model training\n",
        "model.fit(x_train, y_train, validation_data=(x_test, y_test), epochs=100, batch_size=64, callbacks=[early_stop])\n"
      ],
      "metadata": {
        "colab": {
          "base_uri": "https://localhost:8080/"
        },
        "id": "XDpe83nRqdi3",
        "outputId": "7dfc7923-b6a3-428b-fb6d-54cb2ab26dd8"
      },
      "execution_count": 74,
      "outputs": [
        {
          "output_type": "stream",
          "name": "stderr",
          "text": [
            "WARNING:tensorflow:Layer lstm_11 will not use cuDNN kernels since it doesn't meet the criteria. It will use a generic GPU kernel as fallback when running on GPU.\n"
          ]
        },
        {
          "output_type": "stream",
          "name": "stdout",
          "text": [
            "Epoch 1/100\n",
            "192/192 [==============================] - 32s 145ms/step - loss: 0.6376 - accuracy: 0.7753 - val_loss: 0.3332 - val_accuracy: 0.8900\n",
            "Epoch 2/100\n",
            "192/192 [==============================] - 20s 104ms/step - loss: 0.2872 - accuracy: 0.9176 - val_loss: 0.2812 - val_accuracy: 0.9152\n",
            "Epoch 3/100\n",
            "192/192 [==============================] - 19s 98ms/step - loss: 0.2168 - accuracy: 0.9450 - val_loss: 0.2819 - val_accuracy: 0.9082\n",
            "Epoch 4/100\n",
            "192/192 [==============================] - 20s 102ms/step - loss: 0.1904 - accuracy: 0.9509 - val_loss: 0.2520 - val_accuracy: 0.9155\n",
            "Epoch 5/100\n",
            "192/192 [==============================] - 18s 93ms/step - loss: 0.1648 - accuracy: 0.9620 - val_loss: 0.2589 - val_accuracy: 0.9143\n",
            "Epoch 6/100\n",
            "192/192 [==============================] - 20s 106ms/step - loss: 0.1455 - accuracy: 0.9689 - val_loss: 0.2799 - val_accuracy: 0.9138\n",
            "Epoch 7/100\n",
            "192/192 [==============================] - 20s 103ms/step - loss: 0.1356 - accuracy: 0.9705 - val_loss: 0.2642 - val_accuracy: 0.9183\n"
          ]
        },
        {
          "output_type": "execute_result",
          "data": {
            "text/plain": [
              "<keras.callbacks.History at 0x7fd18668bc40>"
            ]
          },
          "metadata": {},
          "execution_count": 74
        }
      ]
    },
    {
      "cell_type": "code",
      "source": [
        "x_final = embedded_docs\n",
        "y_final = y.values.astype(int)  # Convert y to array of integers\n",
        "\n",
        "x_train, x_test, y_train, y_test = train_test_split(x_final, y_final, test_size=0.33, random_state=42)\n",
        "\n",
        "model.fit(x_train, y_train, validation_data=(x_test, y_test), epochs=10, batch_size=64)"
      ],
      "metadata": {
        "colab": {
          "base_uri": "https://localhost:8080/"
        },
        "id": "dQC465CAqrLc",
        "outputId": "c2264e8c-6eb6-43d1-9066-5f4484586134"
      },
      "execution_count": 75,
      "outputs": [
        {
          "output_type": "stream",
          "name": "stdout",
          "text": [
            "Epoch 1/10\n",
            "192/192 [==============================] - 18s 96ms/step - loss: 0.1646 - accuracy: 0.9597 - val_loss: 0.2483 - val_accuracy: 0.9165\n",
            "Epoch 2/10\n",
            "192/192 [==============================] - 17s 89ms/step - loss: 0.1498 - accuracy: 0.9649 - val_loss: 0.2568 - val_accuracy: 0.9158\n",
            "Epoch 3/10\n",
            "192/192 [==============================] - 17s 89ms/step - loss: 0.1366 - accuracy: 0.9706 - val_loss: 0.2656 - val_accuracy: 0.9173\n",
            "Epoch 4/10\n",
            "192/192 [==============================] - 20s 102ms/step - loss: 0.1213 - accuracy: 0.9762 - val_loss: 0.2652 - val_accuracy: 0.9140\n",
            "Epoch 5/10\n",
            "192/192 [==============================] - 17s 89ms/step - loss: 0.1183 - accuracy: 0.9764 - val_loss: 0.3108 - val_accuracy: 0.9100\n",
            "Epoch 6/10\n",
            "192/192 [==============================] - 17s 91ms/step - loss: 0.1107 - accuracy: 0.9787 - val_loss: 0.2725 - val_accuracy: 0.9127\n",
            "Epoch 7/10\n",
            "192/192 [==============================] - 19s 99ms/step - loss: 0.1072 - accuracy: 0.9806 - val_loss: 0.3077 - val_accuracy: 0.9094\n",
            "Epoch 8/10\n",
            "192/192 [==============================] - 17s 89ms/step - loss: 0.0969 - accuracy: 0.9823 - val_loss: 0.3043 - val_accuracy: 0.9127\n",
            "Epoch 9/10\n",
            "192/192 [==============================] - 17s 90ms/step - loss: 0.0925 - accuracy: 0.9838 - val_loss: 0.3148 - val_accuracy: 0.9133\n",
            "Epoch 10/10\n",
            "192/192 [==============================] - 21s 111ms/step - loss: 0.0886 - accuracy: 0.9860 - val_loss: 0.3628 - val_accuracy: 0.9059\n"
          ]
        },
        {
          "output_type": "execute_result",
          "data": {
            "text/plain": [
              "<keras.callbacks.History at 0x7fd17744f760>"
            ]
          },
          "metadata": {},
          "execution_count": 75
        }
      ]
    },
    {
      "cell_type": "code",
      "source": [
        "\n",
        "y_pred_prob = model.predict(x_test)\n",
        "y_pred = [1 if prob > 0.5 else 0 for prob in y_pred_prob]\n",
        "\n",
        "print(confusion_matrix(y_test, y_pred))\n",
        "print(accuracy_score(y_test, y_pred))"
      ],
      "metadata": {
        "colab": {
          "base_uri": "https://localhost:8080/"
        },
        "id": "3D3_yJV8qwAx",
        "outputId": "76d35980-0e46-4eac-dfc5-ff32dbef61ea"
      },
      "execution_count": 76,
      "outputs": [
        {
          "output_type": "stream",
          "name": "stdout",
          "text": [
            "189/189 [==============================] - 1s 7ms/step\n",
            "[[3044  375]\n",
            " [ 193 2423]]\n",
            "0.9058823529411765\n"
          ]
        }
      ]
    },
    {
      "cell_type": "markdown",
      "source": [
        "Dealing with it: We are splitting the data after using the embedding which might lead to data leakage."
      ],
      "metadata": {
        "id": "KmuRDytHuNjK"
      }
    },
    {
      "cell_type": "code",
      "source": [
        "from tensorflow.keras.layers import Dropout\n",
        "from tensorflow.keras import regularizers\n",
        "from tensorflow.keras.callbacks import EarlyStopping\n",
        "from sklearn.model_selection import train_test_split\n",
        "from tensorflow.keras.layers import Embedding\n",
        "from tensorflow.keras.preprocessing.sequence import pad_sequences\n",
        "from tensorflow.keras.preprocessing.text import one_hot\n",
        "from tensorflow.keras.layers import LSTM\n",
        "from tensorflow.keras.layers import Dense\n",
        "import pandas as pd\n",
        "import re\n",
        "import nltk\n",
        "from nltk.corpus import stopwords\n",
        "from nltk.stem.porter import PorterStemmer\n",
        "\n",
        "# Load the dataset\n",
        "df = pd.read_csv('/content/train.csv')\n",
        "df = df.dropna()  # Drop NaN values\n",
        "\n",
        "# Split into features and labels\n",
        "x = df.drop('label', axis=1)\n",
        "y = df['label']\n",
        "\n",
        "# Split into train and test sets\n",
        "x_train, x_test, y_train, y_test = train_test_split(x, y, test_size=0.33, random_state=42)\n",
        "\n",
        "# Perform text preprocessing\n",
        "nltk.download('stopwords')\n",
        "ps = PorterStemmer()\n",
        "corpus = []\n",
        "for i in range(len(x_train)):\n",
        "    review = re.sub('[^a-zA-Z]', ' ', x_train.iloc[i]['title'])\n",
        "    review = review.lower()\n",
        "    review = review.split()\n",
        "    review = [ps.stem(word) for word in review if word not in stopwords.words('english')]\n",
        "    review = ' '.join(review)\n",
        "    corpus.append(review)\n",
        "\n",
        "# Vocabulary size\n",
        "voc_size = 5000\n",
        "\n",
        "# Perform one-hot encoding\n",
        "onehot_repr = [one_hot(words, voc_size) for words in corpus]\n",
        "\n",
        "# Pad sequences\n",
        "sent_length = 20\n",
        "embedded_docs = pad_sequences(onehot_repr, padding='pre', maxlen=sent_length)\n",
        "\n",
        "embedding_vector_features = 40\n",
        "\n",
        "model = Sequential()\n",
        "model.add(Embedding(voc_size, embedding_vector_features, input_length=sent_length))\n",
        "model.add(Dropout(0.3))\n",
        "model.add(LSTM(100, recurrent_dropout=0.3, kernel_regularizer=regularizers.l2(0.01)))\n",
        "model.add(Dropout(0.3))\n",
        "model.add(Dense(1, activation='sigmoid', kernel_regularizer=regularizers.l2(0.01)))\n",
        "\n",
        "model.compile(loss='binary_crossentropy', optimizer='adam', metrics=['accuracy'])\n",
        "\n",
        "early_stop = EarlyStopping(monitor='val_loss', patience=3, restore_best_weights=True)\n",
        "\n",
        "# Model training\n",
        "model.fit(embedded_docs, y_train, validation_split=0.2, epochs=100, batch_size=64, callbacks=[early_stop])\n"
      ],
      "metadata": {
        "colab": {
          "base_uri": "https://localhost:8080/"
        },
        "id": "Agqpe1WdvkvM",
        "outputId": "7784b23e-87a2-46f3-ae0e-c3f3703787fe"
      },
      "execution_count": 81,
      "outputs": [
        {
          "output_type": "stream",
          "name": "stderr",
          "text": [
            "[nltk_data] Downloading package stopwords to /root/nltk_data...\n",
            "[nltk_data]   Package stopwords is already up-to-date!\n",
            "WARNING:tensorflow:Layer lstm_14 will not use cuDNN kernels since it doesn't meet the criteria. It will use a generic GPU kernel as fallback when running on GPU.\n"
          ]
        },
        {
          "output_type": "stream",
          "name": "stdout",
          "text": [
            "Epoch 1/100\n",
            "154/154 [==============================] - 27s 160ms/step - loss: 0.6959 - accuracy: 0.7557 - val_loss: 0.3629 - val_accuracy: 0.8804\n",
            "Epoch 2/100\n",
            "154/154 [==============================] - 16s 105ms/step - loss: 0.3032 - accuracy: 0.9166 - val_loss: 0.2955 - val_accuracy: 0.9069\n",
            "Epoch 3/100\n",
            "154/154 [==============================] - 15s 95ms/step - loss: 0.2350 - accuracy: 0.9398 - val_loss: 0.2824 - val_accuracy: 0.9122\n",
            "Epoch 4/100\n",
            "154/154 [==============================] - 14s 89ms/step - loss: 0.1961 - accuracy: 0.9527 - val_loss: 0.3209 - val_accuracy: 0.8918\n",
            "Epoch 5/100\n",
            "154/154 [==============================] - 14s 90ms/step - loss: 0.1737 - accuracy: 0.9599 - val_loss: 0.2682 - val_accuracy: 0.9139\n",
            "Epoch 6/100\n",
            "154/154 [==============================] - 14s 89ms/step - loss: 0.1544 - accuracy: 0.9654 - val_loss: 0.2622 - val_accuracy: 0.9106\n",
            "Epoch 7/100\n",
            "154/154 [==============================] - 14s 88ms/step - loss: 0.1414 - accuracy: 0.9709 - val_loss: 0.2795 - val_accuracy: 0.9147\n",
            "Epoch 8/100\n",
            "154/154 [==============================] - 14s 90ms/step - loss: 0.1267 - accuracy: 0.9769 - val_loss: 0.3027 - val_accuracy: 0.9061\n",
            "Epoch 9/100\n",
            "154/154 [==============================] - 13s 87ms/step - loss: 0.1248 - accuracy: 0.9772 - val_loss: 0.2971 - val_accuracy: 0.9114\n"
          ]
        },
        {
          "output_type": "execute_result",
          "data": {
            "text/plain": [
              "<keras.callbacks.History at 0x7fd184fb4910>"
            ]
          },
          "metadata": {},
          "execution_count": 81
        }
      ]
    },
    {
      "cell_type": "code",
      "source": [
        "from sklearn.metrics import confusion_matrix, accuracy_score\n",
        "\n",
        "y_test_list = y_test.values.tolist()\n",
        "\n",
        "y_pred_list = [int(val) for val in y_pred]\n",
        "\n",
        "cm = confusion_matrix(y_test_list, y_pred_list)\n",
        "print(cm)\n",
        "\n",
        "accuracy = accuracy_score(y_test_list, y_pred_list)"
      ],
      "metadata": {
        "colab": {
          "base_uri": "https://localhost:8080/"
        },
        "id": "ULzoQyMvvzFi",
        "outputId": "6e5057b3-5624-4d42-d488-ff1289faf4db"
      },
      "execution_count": 95,
      "outputs": [
        {
          "output_type": "stream",
          "name": "stdout",
          "text": [
            "[[3044  375]\n",
            " [ 193 2423]]\n"
          ]
        }
      ]
    },
    {
      "cell_type": "markdown",
      "source": [
        "Doing hyperparameter tuning with the help of keras-tuner"
      ],
      "metadata": {
        "id": "iGWdAgWc3Wim"
      }
    },
    {
      "cell_type": "code",
      "source": [
        "pip install keras-tuner"
      ],
      "metadata": {
        "colab": {
          "base_uri": "https://localhost:8080/"
        },
        "id": "p-J8x8C04Q77",
        "outputId": "728d8b9a-9205-4f28-e932-200452c08d3a"
      },
      "execution_count": 97,
      "outputs": [
        {
          "output_type": "stream",
          "name": "stdout",
          "text": [
            "Looking in indexes: https://pypi.org/simple, https://us-python.pkg.dev/colab-wheels/public/simple/\n",
            "Collecting keras-tuner\n",
            "  Downloading keras_tuner-1.3.5-py3-none-any.whl (176 kB)\n",
            "\u001b[2K     \u001b[90m━━━━━━━━━━━━━━━━━━━━━━━━━━━━━━━━━━━━━━━\u001b[0m \u001b[32m176.1/176.1 kB\u001b[0m \u001b[31m4.5 MB/s\u001b[0m eta \u001b[36m0:00:00\u001b[0m\n",
            "\u001b[?25hRequirement already satisfied: packaging in /usr/local/lib/python3.10/dist-packages (from keras-tuner) (23.1)\n",
            "Requirement already satisfied: requests in /usr/local/lib/python3.10/dist-packages (from keras-tuner) (2.27.1)\n",
            "Collecting kt-legacy (from keras-tuner)\n",
            "  Downloading kt_legacy-1.0.5-py3-none-any.whl (9.6 kB)\n",
            "Requirement already satisfied: urllib3<1.27,>=1.21.1 in /usr/local/lib/python3.10/dist-packages (from requests->keras-tuner) (1.26.15)\n",
            "Requirement already satisfied: certifi>=2017.4.17 in /usr/local/lib/python3.10/dist-packages (from requests->keras-tuner) (2022.12.7)\n",
            "Requirement already satisfied: charset-normalizer~=2.0.0 in /usr/local/lib/python3.10/dist-packages (from requests->keras-tuner) (2.0.12)\n",
            "Requirement already satisfied: idna<4,>=2.5 in /usr/local/lib/python3.10/dist-packages (from requests->keras-tuner) (3.4)\n",
            "Installing collected packages: kt-legacy, keras-tuner\n",
            "Successfully installed keras-tuner-1.3.5 kt-legacy-1.0.5\n"
          ]
        }
      ]
    },
    {
      "cell_type": "code",
      "source": [
        "import pandas as pd\n",
        "import re\n",
        "import nltk\n",
        "from nltk.corpus import stopwords\n",
        "from nltk.stem.porter import PorterStemmer\n",
        "from tensorflow import keras\n",
        "import tensorflow.keras.layers as layers\n",
        "import keras_tuner as kt"
      ],
      "metadata": {
        "id": "r9C1L7-23ZLQ"
      },
      "execution_count": 99,
      "outputs": []
    },
    {
      "cell_type": "code",
      "source": [
        "# Load the train dataset\n",
        "train_df = pd.read_csv('/content/train.csv')\n",
        "\n",
        "# Drop NaN values\n",
        "train_df = train_df.dropna()\n",
        "\n",
        "# Split into features and labels\n",
        "x_train = train_df.drop('label', axis=1)\n",
        "y_train = train_df['label']"
      ],
      "metadata": {
        "id": "hg6F1ReH4Xif"
      },
      "execution_count": 101,
      "outputs": []
    },
    {
      "cell_type": "code",
      "source": [
        "# Perform text preprocessing\n",
        "nltk.download('stopwords')\n",
        "ps = PorterStemmer()\n",
        "corpus_train = []\n",
        "for i in range(len(x_train)):\n",
        "    review = re.sub('[^a-zA-Z]', ' ', x_train.iloc[i]['title'])\n",
        "    review = review.lower()\n",
        "    review = review.split()\n",
        "    review = [ps.stem(word) for word in review if word not in stopwords.words('english')]\n",
        "    review = ' '.join(review)\n",
        "    corpus_train.append(review)"
      ],
      "metadata": {
        "colab": {
          "base_uri": "https://localhost:8080/"
        },
        "id": "iDzF5R-Y4w-t",
        "outputId": "c4d64582-995f-4b96-9cfc-a410b6c69a6c"
      },
      "execution_count": 102,
      "outputs": [
        {
          "output_type": "stream",
          "name": "stderr",
          "text": [
            "[nltk_data] Downloading package stopwords to /root/nltk_data...\n",
            "[nltk_data]   Package stopwords is already up-to-date!\n"
          ]
        }
      ]
    },
    {
      "cell_type": "code",
      "source": [
        "# Vocabulary size\n",
        "voc_size = 5000\n",
        "\n",
        "# Perform one-hot encoding\n",
        "onehot_repr_train = [keras.preprocessing.text.one_hot(words, voc_size) for words in corpus_train]\n",
        "\n",
        "# Pad sequences\n",
        "sent_length = 20\n",
        "embedded_docs_train = keras.preprocessing.sequence.pad_sequences(onehot_repr_train, padding='pre', maxlen=sent_length)"
      ],
      "metadata": {
        "id": "K0IK6JFX41vi"
      },
      "execution_count": null,
      "outputs": []
    },
    {
      "cell_type": "code",
      "source": [
        "# Define the hypermodel\n",
        "def build_model(hp):\n",
        "    model = keras.Sequential()\n",
        "    model.add(layers.Embedding(voc_size, 40, input_length=sent_length))\n",
        "\n",
        "    # Tune the dropout rate\n",
        "    hp_dropout = hp.Float('dropout', min_value=0.2, max_value=0.5, step=0.1)\n",
        "    model.add(layers.Dropout(hp_dropout))\n",
        "\n",
        "    # Tune the number of LSTM units\n",
        "    hp_units = hp.Int('units', min_value=50, max_value=150, step=10)\n",
        "    model.add(layers.LSTM(units=hp_units))\n",
        "\n",
        "    model.add(layers.Dense(1, activation='sigmoid'))\n",
        "    model.compile(loss='binary_crossentropy', optimizer='adam', metrics=['accuracy'])\n",
        "    return model"
      ],
      "metadata": {
        "id": "OlD8xNHQ5RS_"
      },
      "execution_count": 106,
      "outputs": []
    },
    {
      "cell_type": "code",
      "source": [
        "# Define the tuner\n",
        "tuner = kt.Hyperband(build_model, objective='val_accuracy', max_epochs=10, factor=3, directory='kt_dir', project_name='my_model')"
      ],
      "metadata": {
        "id": "SbM6_q355cXL"
      },
      "execution_count": 107,
      "outputs": []
    },
    {
      "cell_type": "code",
      "source": [
        "# Perform hyperparameter tuning\n",
        "tuner.search(embedded_docs, y, epochs=10, validation_split=0.2)\n",
        "\n",
        "# Get the best hyperparameters\n",
        "best_hps = tuner.get_best_hyperparameters(num_trials=1)[0]\n",
        "\n",
        "# Build the model with the best hyperparameters\n",
        "model = tuner.hypermodel.build(best_hps)\n",
        "\n",
        "# Train the model\n",
        "model.fit(embedded_docs, y, epochs=10, validation_split=0.2)"
      ],
      "metadata": {
        "colab": {
          "base_uri": "https://localhost:8080/"
        },
        "id": "4F4bOezu5jqS",
        "outputId": "1d0f0ba1-240f-4441-9c86-38020b818726"
      },
      "execution_count": 108,
      "outputs": [
        {
          "output_type": "stream",
          "name": "stdout",
          "text": [
            "Trial 30 Complete [00h 00m 38s]\n",
            "val_accuracy: 0.5759183764457703\n",
            "\n",
            "Best val_accuracy So Far: 0.5759183764457703\n",
            "Total elapsed time: 00h 14m 17s\n",
            "Epoch 1/10\n",
            "307/307 [==============================] - 14s 39ms/step - loss: 0.6856 - accuracy: 0.5651 - val_loss: 0.6831 - val_accuracy: 0.5759\n",
            "Epoch 2/10\n",
            "307/307 [==============================] - 3s 9ms/step - loss: 0.6720 - accuracy: 0.5810 - val_loss: 0.6904 - val_accuracy: 0.5563\n",
            "Epoch 3/10\n",
            "307/307 [==============================] - 4s 13ms/step - loss: 0.6011 - accuracy: 0.6795 - val_loss: 0.7401 - val_accuracy: 0.5069\n",
            "Epoch 4/10\n",
            "307/307 [==============================] - 2s 7ms/step - loss: 0.5292 - accuracy: 0.7320 - val_loss: 0.8220 - val_accuracy: 0.4882\n",
            "Epoch 5/10\n",
            "307/307 [==============================] - 2s 7ms/step - loss: 0.4724 - accuracy: 0.7761 - val_loss: 0.9004 - val_accuracy: 0.5057\n",
            "Epoch 6/10\n",
            "307/307 [==============================] - 2s 7ms/step - loss: 0.4276 - accuracy: 0.7959 - val_loss: 0.9651 - val_accuracy: 0.5000\n",
            "Epoch 7/10\n",
            "307/307 [==============================] - 2s 6ms/step - loss: 0.3845 - accuracy: 0.8200 - val_loss: 1.0963 - val_accuracy: 0.4988\n",
            "Epoch 8/10\n",
            "307/307 [==============================] - 3s 8ms/step - loss: 0.3565 - accuracy: 0.8360 - val_loss: 1.1923 - val_accuracy: 0.4906\n",
            "Epoch 9/10\n",
            "307/307 [==============================] - 3s 9ms/step - loss: 0.3176 - accuracy: 0.8557 - val_loss: 1.3293 - val_accuracy: 0.4971\n",
            "Epoch 10/10\n",
            "307/307 [==============================] - 2s 7ms/step - loss: 0.2908 - accuracy: 0.8715 - val_loss: 1.4882 - val_accuracy: 0.4935\n"
          ]
        },
        {
          "output_type": "execute_result",
          "data": {
            "text/plain": [
              "<keras.callbacks.History at 0x7fd18139d270>"
            ]
          },
          "metadata": {},
          "execution_count": 108
        }
      ]
    },
    {
      "cell_type": "code",
      "source": [
        "# Preprocess test data\n",
        "corpus_test = []\n",
        "for i in range(len(x_test)):\n",
        "    review = re.sub('[^a-zA-Z]', ' ',str( x_test[i]))\n",
        "    review = review.lower()\n",
        "    review = review.split()\n",
        "    review = [ps.stem(word) for word in review if word not in stopwords.words('english')]\n",
        "    review = ' '.join(review)\n",
        "    corpus_test.append(review)\n",
        "\n",
        "onehot_repr_test = [one_hot(words, voc_size) for words in corpus_test]\n",
        "embedded_docs_test = pad_sequences(onehot_repr_test, padding='pre', maxlen=sent_length)\n"
      ],
      "metadata": {
        "id": "vkavg7Fw91tm"
      },
      "execution_count": 115,
      "outputs": []
    },
    {
      "cell_type": "code",
      "source": [
        "# Evaluate the model on the test data\n",
        "import numpy as np\n",
        "y_pred_prob = model.predict(embedded_docs_test)\n",
        "y_pred = np.round(y_pred_prob).astype(int)\n",
        "\n",
        "# Calculate accuracy and confusion matrix\n",
        "accuracy = accuracy_score(y_test, y_pred)\n",
        "cm = confusion_matrix(y_test, y_pred)\n",
        "\n",
        "print(\"Accuracy:\", accuracy)\n",
        "print(\"Confusion Matrix:\")\n",
        "print(cm)\n"
      ],
      "metadata": {
        "colab": {
          "base_uri": "https://localhost:8080/"
        },
        "id": "3g1QfEn9-MN1",
        "outputId": "f15daca5-c12a-4f8b-e6dc-faeb780658eb"
      },
      "execution_count": 116,
      "outputs": [
        {
          "output_type": "stream",
          "name": "stdout",
          "text": [
            "189/189 [==============================] - 1s 2ms/step\n",
            "Accuracy: 0.49063794531897265\n",
            "Confusion Matrix:\n",
            "[[1558 1861]\n",
            " [1213 1403]]\n"
          ]
        }
      ]
    }
  ]
}